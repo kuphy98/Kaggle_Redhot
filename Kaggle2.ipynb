{
 "cells": [
  {
   "cell_type": "markdown",
   "metadata": {},
   "source": [
    "## Kaggle Competetion (Since Aug./7th/2016)"
   ]
  },
  {
   "cell_type": "markdown",
   "metadata": {},
   "source": [
    "### Predicting Red Hat Business Value\n",
    "\n",
    "Like most companies, Red Hat is able to gather a great deal of information over time about the behavior of individuals who interact with them. They’re in search of better methods of using this behavioral data to predict which individuals they should approach—and even when and how to approach them.\n",
    "\n",
    "In this competition, Kagglers are challenged to <b>create a classification algorithm</b> that accurately identifies which <u>customers have the most potential business value</u> for Red Hat based on their characteristics and activities.\n",
    "\n",
    "With an improved prediction model in place, Red Hat will be able to more efficiently prioritize resources to generate more business and better serve their customers."
   ]
  },
  {
   "cell_type": "markdown",
   "metadata": {},
   "source": [
    "### Data Samples\n",
    "This competition uses two separate data files that may be joined together to create a single, unified data table: a people file and an activity file.\n",
    "\n",
    "The **people file** contains all of the **unique people** (and the corresponding characteristics) that have performed activities over time. Each row in the people file represents a unique person. Each person has a unique **people_id**.\n",
    "\n",
    "The **activity file** contains *all of the unique activities* (and the corresponding activity characteristics) that each person has performed over time. Each row in the activity file represents **a unique activity** performed by a person on **a certain date**. Each activity has **a unique activity_id**.\n",
    "\n",
    "The challenge of this competition is **to predict the potential business value of a person who has performed a specific activity**. *The business value outcome is defined by a yes/no field attached to each unique activity in the activity file*. The outcome field indicates whether or not each person has completed the outcome within a fixed window of time after each unique activity was performed.\n",
    "\n",
    "The activity file contains *several different categories of activities*. Type 1 activities are different from type 2-7 activities because there are more known characteristics associated with type 1 activities (nine in total) than type 2-7 activities (which have only one associated characteristic).\n",
    "\n",
    "To develop a predictive model with this data, you will likely **need to join the files together into a single data set**. The two files can be joined together using person_id as the common key. All variables are categorical, with the exception of 'char_38' in the people file, which is a continuous numerical variable."
   ]
  },
  {
   "cell_type": "code",
   "execution_count": null,
   "metadata": {
    "collapsed": true
   },
   "outputs": [],
   "source": []
  },
  {
   "cell_type": "markdown",
   "metadata": {},
   "source": [
    "predict potential business value => defined by yes/no attached to each unique activity => indicates whether or not each person has completed the outcome within a fixed window of time after unique activity\n",
    "\n"
   ]
  },
  {
   "cell_type": "code",
   "execution_count": null,
   "metadata": {
    "collapsed": true
   },
   "outputs": [],
   "source": []
  },
  {
   "cell_type": "code",
   "execution_count": 1,
   "metadata": {
    "collapsed": true
   },
   "outputs": [],
   "source": [
    "%matplotlib inline\n",
    "import matplotlib\n",
    "import seaborn as sns\n",
    "matplotlib.rcParams['savefig.dpi'] = 2 * matplotlib.rcParams['savefig.dpi']"
   ]
  },
  {
   "cell_type": "code",
   "execution_count": null,
   "metadata": {
    "collapsed": true
   },
   "outputs": [],
   "source": []
  },
  {
   "cell_type": "code",
   "execution_count": 2,
   "metadata": {
    "collapsed": true
   },
   "outputs": [],
   "source": [
    "# Load data files : people and an activity\n",
    "import pandas as pd\n",
    "\n",
    "people = pd.read_csv(\"./data/people.csv\")\n",
    "activity = pd.read_csv(\"./data/act_train.csv\")"
   ]
  },
  {
   "cell_type": "code",
   "execution_count": 3,
   "metadata": {
    "collapsed": false,
    "scrolled": true
   },
   "outputs": [],
   "source": [
    "combined = pd.merge(people, activity, how='inner', on='people_id', left_on=None, right_on=None,\n",
    "      left_index=False, right_index=False, sort=True,\n",
    "      suffixes=('_x', '_y'), copy=True, indicator=False)"
   ]
  },
  {
   "cell_type": "code",
   "execution_count": 4,
   "metadata": {
    "collapsed": false
   },
   "outputs": [
    {
     "data": {
      "text/html": [
       "<div>\n",
       "<table border=\"1\" class=\"dataframe\">\n",
       "  <thead>\n",
       "    <tr style=\"text-align: right;\">\n",
       "      <th></th>\n",
       "      <th>people_id</th>\n",
       "      <th>char_1_x</th>\n",
       "      <th>group_1</th>\n",
       "      <th>char_2_x</th>\n",
       "      <th>date_x</th>\n",
       "      <th>char_3_x</th>\n",
       "      <th>char_4_x</th>\n",
       "      <th>char_5_x</th>\n",
       "      <th>char_6_x</th>\n",
       "      <th>char_7_x</th>\n",
       "      <th>...</th>\n",
       "      <th>char_2_y</th>\n",
       "      <th>char_3_y</th>\n",
       "      <th>char_4_y</th>\n",
       "      <th>char_5_y</th>\n",
       "      <th>char_6_y</th>\n",
       "      <th>char_7_y</th>\n",
       "      <th>char_8_y</th>\n",
       "      <th>char_9_y</th>\n",
       "      <th>char_10_y</th>\n",
       "      <th>outcome</th>\n",
       "    </tr>\n",
       "  </thead>\n",
       "  <tbody>\n",
       "    <tr>\n",
       "      <th>0</th>\n",
       "      <td>ppl_100</td>\n",
       "      <td>type 2</td>\n",
       "      <td>group 17304</td>\n",
       "      <td>type 2</td>\n",
       "      <td>2021-06-29</td>\n",
       "      <td>type 5</td>\n",
       "      <td>type 5</td>\n",
       "      <td>type 5</td>\n",
       "      <td>type 3</td>\n",
       "      <td>type 11</td>\n",
       "      <td>...</td>\n",
       "      <td>NaN</td>\n",
       "      <td>NaN</td>\n",
       "      <td>NaN</td>\n",
       "      <td>NaN</td>\n",
       "      <td>NaN</td>\n",
       "      <td>NaN</td>\n",
       "      <td>NaN</td>\n",
       "      <td>NaN</td>\n",
       "      <td>type 76</td>\n",
       "      <td>0</td>\n",
       "    </tr>\n",
       "    <tr>\n",
       "      <th>1</th>\n",
       "      <td>ppl_100</td>\n",
       "      <td>type 2</td>\n",
       "      <td>group 17304</td>\n",
       "      <td>type 2</td>\n",
       "      <td>2021-06-29</td>\n",
       "      <td>type 5</td>\n",
       "      <td>type 5</td>\n",
       "      <td>type 5</td>\n",
       "      <td>type 3</td>\n",
       "      <td>type 11</td>\n",
       "      <td>...</td>\n",
       "      <td>NaN</td>\n",
       "      <td>NaN</td>\n",
       "      <td>NaN</td>\n",
       "      <td>NaN</td>\n",
       "      <td>NaN</td>\n",
       "      <td>NaN</td>\n",
       "      <td>NaN</td>\n",
       "      <td>NaN</td>\n",
       "      <td>type 1</td>\n",
       "      <td>0</td>\n",
       "    </tr>\n",
       "    <tr>\n",
       "      <th>2</th>\n",
       "      <td>ppl_100</td>\n",
       "      <td>type 2</td>\n",
       "      <td>group 17304</td>\n",
       "      <td>type 2</td>\n",
       "      <td>2021-06-29</td>\n",
       "      <td>type 5</td>\n",
       "      <td>type 5</td>\n",
       "      <td>type 5</td>\n",
       "      <td>type 3</td>\n",
       "      <td>type 11</td>\n",
       "      <td>...</td>\n",
       "      <td>NaN</td>\n",
       "      <td>NaN</td>\n",
       "      <td>NaN</td>\n",
       "      <td>NaN</td>\n",
       "      <td>NaN</td>\n",
       "      <td>NaN</td>\n",
       "      <td>NaN</td>\n",
       "      <td>NaN</td>\n",
       "      <td>type 1</td>\n",
       "      <td>0</td>\n",
       "    </tr>\n",
       "  </tbody>\n",
       "</table>\n",
       "<p>3 rows × 55 columns</p>\n",
       "</div>"
      ],
      "text/plain": [
       "  people_id char_1_x      group_1 char_2_x      date_x char_3_x char_4_x  \\\n",
       "0   ppl_100   type 2  group 17304   type 2  2021-06-29   type 5   type 5   \n",
       "1   ppl_100   type 2  group 17304   type 2  2021-06-29   type 5   type 5   \n",
       "2   ppl_100   type 2  group 17304   type 2  2021-06-29   type 5   type 5   \n",
       "\n",
       "  char_5_x char_6_x char_7_x   ...   char_2_y char_3_y char_4_y char_5_y  \\\n",
       "0   type 5   type 3  type 11   ...        NaN      NaN      NaN      NaN   \n",
       "1   type 5   type 3  type 11   ...        NaN      NaN      NaN      NaN   \n",
       "2   type 5   type 3  type 11   ...        NaN      NaN      NaN      NaN   \n",
       "\n",
       "  char_6_y char_7_y char_8_y char_9_y char_10_y outcome  \n",
       "0      NaN      NaN      NaN      NaN   type 76       0  \n",
       "1      NaN      NaN      NaN      NaN    type 1       0  \n",
       "2      NaN      NaN      NaN      NaN    type 1       0  \n",
       "\n",
       "[3 rows x 55 columns]"
      ]
     },
     "execution_count": 4,
     "metadata": {},
     "output_type": "execute_result"
    }
   ],
   "source": [
    "combined.head(3)"
   ]
  },
  {
   "cell_type": "code",
   "execution_count": 5,
   "metadata": {
    "collapsed": true
   },
   "outputs": [],
   "source": [
    "combined = combined.fillna('type 0')"
   ]
  },
  {
   "cell_type": "code",
   "execution_count": 6,
   "metadata": {
    "collapsed": false,
    "scrolled": false
   },
   "outputs": [
    {
     "data": {
      "text/plain": [
       "Index([u'people_id', u'char_1_x', u'group_1', u'char_2_x', u'date_x',\n",
       "       u'char_3_x', u'char_4_x', u'char_5_x', u'char_6_x', u'char_7_x',\n",
       "       u'char_8_x', u'char_9_x', u'char_10_x', u'char_11', u'char_12',\n",
       "       u'char_13', u'char_14', u'char_15', u'char_16', u'char_17', u'char_18',\n",
       "       u'char_19', u'char_20', u'char_21', u'char_22', u'char_23', u'char_24',\n",
       "       u'char_25', u'char_26', u'char_27', u'char_28', u'char_29', u'char_30',\n",
       "       u'char_31', u'char_32', u'char_33', u'char_34', u'char_35', u'char_36',\n",
       "       u'char_37', u'char_38', u'activity_id', u'date_y', u'activity_category',\n",
       "       u'char_1_y', u'char_2_y', u'char_3_y', u'char_4_y', u'char_5_y',\n",
       "       u'char_6_y', u'char_7_y', u'char_8_y', u'char_9_y', u'char_10_y',\n",
       "       u'outcome'],\n",
       "      dtype='object')"
      ]
     },
     "execution_count": 6,
     "metadata": {},
     "output_type": "execute_result"
    }
   ],
   "source": [
    "combined.columns"
   ]
  },
  {
   "cell_type": "code",
   "execution_count": 10,
   "metadata": {
    "collapsed": true
   },
   "outputs": [],
   "source": [
    "colnames = [u'people_id', u'group_1', u'date_x', u'date_y', u'activity_id', u'char_1_x', u'char_2_x',\n",
    "       u'char_3_x', u'char_4_x', u'char_5_x', u'char_6_x', u'char_7_x',\n",
    "       u'char_8_x', u'char_9_x', u'char_10_x', u'char_11', u'char_12',\n",
    "       u'char_13', u'char_14', u'char_15', u'char_16', u'char_17', u'char_18',\n",
    "       u'char_19', u'char_20', u'char_21', u'char_22', u'char_23', u'char_24',\n",
    "       u'char_25', u'char_26', u'char_27', u'char_28', u'char_29', u'char_30',\n",
    "       u'char_31', u'char_32', u'char_33', u'char_34', u'char_35', u'char_36',\n",
    "       u'char_37', u'char_38', u'activity_category',\n",
    "       u'char_1_y', u'char_2_y', u'char_3_y', u'char_4_y', u'char_5_y',\n",
    "       u'char_6_y', u'char_7_y', u'char_8_y', u'char_9_y', u'char_10_y',\n",
    "       u'outcome']"
   ]
  },
  {
   "cell_type": "code",
   "execution_count": null,
   "metadata": {
    "collapsed": true
   },
   "outputs": [],
   "source": []
  },
  {
   "cell_type": "code",
   "execution_count": 11,
   "metadata": {
    "collapsed": true
   },
   "outputs": [],
   "source": [
    "combined = combined[colnames]"
   ]
  },
  {
   "cell_type": "code",
   "execution_count": 12,
   "metadata": {
    "collapsed": false,
    "scrolled": true
   },
   "outputs": [],
   "source": [
    "combined = combined.sort_values(['people_id', 'date_y'], ascending=[1, 1])"
   ]
  },
  {
   "cell_type": "code",
   "execution_count": null,
   "metadata": {
    "collapsed": true
   },
   "outputs": [],
   "source": []
  },
  {
   "cell_type": "code",
   "execution_count": null,
   "metadata": {
    "collapsed": true
   },
   "outputs": [],
   "source": [
    "#frame['a'].corr(frame['b'], method='spearman')"
   ]
  },
  {
   "cell_type": "code",
   "execution_count": null,
   "metadata": {
    "collapsed": true
   },
   "outputs": [],
   "source": []
  },
  {
   "cell_type": "code",
   "execution_count": 16,
   "metadata": {
    "collapsed": false
   },
   "outputs": [
    {
     "name": "stdout",
     "output_type": "stream",
     "text": [
      "\n"
     ]
    }
   ],
   "source": [
    "# 1.13.4.3. Tree-based feature selection\n",
    "from sklearn.ensemble import ExtraTreesClassifier\n",
    "from sklearn.feature_selection import SelectFromModel\n",
    "\n",
    "clf = ExtraTreesClassifier()"
   ]
  },
  {
   "cell_type": "code",
   "execution_count": 17,
   "metadata": {
    "collapsed": true
   },
   "outputs": [],
   "source": [
    "# subset for classifier\n",
    "df = combined[[u'activity_id',\n",
    "       u'char_1_x', u'char_2_x', u'char_3_x', u'char_4_x', u'char_5_x',\n",
    "       u'char_6_x', u'char_7_x', u'char_8_x', u'char_9_x', u'char_10_x',\n",
    "       u'char_11', u'char_12', u'char_13', u'char_14', u'char_15', u'char_16',\n",
    "       u'char_17', u'char_18', u'char_19', u'char_20', u'char_21', u'char_22',\n",
    "       u'char_23', u'char_24', u'char_25', u'char_26', u'char_27', u'char_28',\n",
    "       u'char_29', u'char_30', u'char_31', u'char_32', u'char_33', u'char_34',\n",
    "       u'char_35', u'char_36', u'char_37', u'char_38', u'activity_category',\n",
    "       u'char_1_y', u'char_2_y', u'char_3_y', u'char_4_y', u'char_5_y',\n",
    "       u'char_6_y', u'char_7_y', u'char_8_y', u'char_9_y', u'char_10_y','outcome']]"
   ]
  },
  {
   "cell_type": "code",
   "execution_count": 18,
   "metadata": {
    "collapsed": true
   },
   "outputs": [],
   "source": [
    "df = df.set_index('activity_id')"
   ]
  },
  {
   "cell_type": "code",
   "execution_count": 21,
   "metadata": {
    "collapsed": false
   },
   "outputs": [
    {
     "data": {
      "text/html": [
       "<div>\n",
       "<table border=\"1\" class=\"dataframe\">\n",
       "  <thead>\n",
       "    <tr style=\"text-align: right;\">\n",
       "      <th></th>\n",
       "      <th>char_1_x</th>\n",
       "      <th>char_2_x</th>\n",
       "      <th>char_3_x</th>\n",
       "      <th>char_4_x</th>\n",
       "      <th>char_5_x</th>\n",
       "      <th>char_6_x</th>\n",
       "      <th>char_7_x</th>\n",
       "      <th>char_8_x</th>\n",
       "      <th>char_9_x</th>\n",
       "      <th>char_10_x</th>\n",
       "      <th>...</th>\n",
       "      <th>char_2_y</th>\n",
       "      <th>char_3_y</th>\n",
       "      <th>char_4_y</th>\n",
       "      <th>char_5_y</th>\n",
       "      <th>char_6_y</th>\n",
       "      <th>char_7_y</th>\n",
       "      <th>char_8_y</th>\n",
       "      <th>char_9_y</th>\n",
       "      <th>char_10_y</th>\n",
       "      <th>outcome</th>\n",
       "    </tr>\n",
       "    <tr>\n",
       "      <th>activity_id</th>\n",
       "      <th></th>\n",
       "      <th></th>\n",
       "      <th></th>\n",
       "      <th></th>\n",
       "      <th></th>\n",
       "      <th></th>\n",
       "      <th></th>\n",
       "      <th></th>\n",
       "      <th></th>\n",
       "      <th></th>\n",
       "      <th></th>\n",
       "      <th></th>\n",
       "      <th></th>\n",
       "      <th></th>\n",
       "      <th></th>\n",
       "      <th></th>\n",
       "      <th></th>\n",
       "      <th></th>\n",
       "      <th></th>\n",
       "      <th></th>\n",
       "      <th></th>\n",
       "    </tr>\n",
       "  </thead>\n",
       "  <tbody>\n",
       "    <tr>\n",
       "      <th>act2_2434093</th>\n",
       "      <td>type 2</td>\n",
       "      <td>type 2</td>\n",
       "      <td>type 5</td>\n",
       "      <td>type 5</td>\n",
       "      <td>type 5</td>\n",
       "      <td>type 3</td>\n",
       "      <td>type 11</td>\n",
       "      <td>type 2</td>\n",
       "      <td>type 2</td>\n",
       "      <td>True</td>\n",
       "      <td>...</td>\n",
       "      <td>type 0</td>\n",
       "      <td>type 0</td>\n",
       "      <td>type 0</td>\n",
       "      <td>type 0</td>\n",
       "      <td>type 0</td>\n",
       "      <td>type 0</td>\n",
       "      <td>type 0</td>\n",
       "      <td>type 0</td>\n",
       "      <td>type 1</td>\n",
       "      <td>0</td>\n",
       "    </tr>\n",
       "    <tr>\n",
       "      <th>act2_3404049</th>\n",
       "      <td>type 2</td>\n",
       "      <td>type 2</td>\n",
       "      <td>type 5</td>\n",
       "      <td>type 5</td>\n",
       "      <td>type 5</td>\n",
       "      <td>type 3</td>\n",
       "      <td>type 11</td>\n",
       "      <td>type 2</td>\n",
       "      <td>type 2</td>\n",
       "      <td>True</td>\n",
       "      <td>...</td>\n",
       "      <td>type 0</td>\n",
       "      <td>type 0</td>\n",
       "      <td>type 0</td>\n",
       "      <td>type 0</td>\n",
       "      <td>type 0</td>\n",
       "      <td>type 0</td>\n",
       "      <td>type 0</td>\n",
       "      <td>type 0</td>\n",
       "      <td>type 1</td>\n",
       "      <td>0</td>\n",
       "    </tr>\n",
       "    <tr>\n",
       "      <th>act2_3651215</th>\n",
       "      <td>type 2</td>\n",
       "      <td>type 2</td>\n",
       "      <td>type 5</td>\n",
       "      <td>type 5</td>\n",
       "      <td>type 5</td>\n",
       "      <td>type 3</td>\n",
       "      <td>type 11</td>\n",
       "      <td>type 2</td>\n",
       "      <td>type 2</td>\n",
       "      <td>True</td>\n",
       "      <td>...</td>\n",
       "      <td>type 0</td>\n",
       "      <td>type 0</td>\n",
       "      <td>type 0</td>\n",
       "      <td>type 0</td>\n",
       "      <td>type 0</td>\n",
       "      <td>type 0</td>\n",
       "      <td>type 0</td>\n",
       "      <td>type 0</td>\n",
       "      <td>type 1</td>\n",
       "      <td>0</td>\n",
       "    </tr>\n",
       "  </tbody>\n",
       "</table>\n",
       "<p>3 rows × 50 columns</p>\n",
       "</div>"
      ],
      "text/plain": [
       "             char_1_x char_2_x char_3_x char_4_x char_5_x char_6_x char_7_x  \\\n",
       "activity_id                                                                   \n",
       "act2_2434093   type 2   type 2   type 5   type 5   type 5   type 3  type 11   \n",
       "act2_3404049   type 2   type 2   type 5   type 5   type 5   type 3  type 11   \n",
       "act2_3651215   type 2   type 2   type 5   type 5   type 5   type 3  type 11   \n",
       "\n",
       "             char_8_x char_9_x char_10_x   ...   char_2_y char_3_y char_4_y  \\\n",
       "activity_id                                ...                                \n",
       "act2_2434093   type 2   type 2      True   ...     type 0   type 0   type 0   \n",
       "act2_3404049   type 2   type 2      True   ...     type 0   type 0   type 0   \n",
       "act2_3651215   type 2   type 2      True   ...     type 0   type 0   type 0   \n",
       "\n",
       "             char_5_y char_6_y char_7_y char_8_y char_9_y char_10_y outcome  \n",
       "activity_id                                                                  \n",
       "act2_2434093   type 0   type 0   type 0   type 0   type 0    type 1       0  \n",
       "act2_3404049   type 0   type 0   type 0   type 0   type 0    type 1       0  \n",
       "act2_3651215   type 0   type 0   type 0   type 0   type 0    type 1       0  \n",
       "\n",
       "[3 rows x 50 columns]"
      ]
     },
     "execution_count": 21,
     "metadata": {},
     "output_type": "execute_result"
    }
   ],
   "source": [
    "df.head(3)"
   ]
  },
  {
   "cell_type": "code",
   "execution_count": 19,
   "metadata": {
    "collapsed": true
   },
   "outputs": [],
   "source": [
    "import pandas as pd\n",
    "from sklearn.preprocessing import LabelEncoder\n",
    "from sklearn.pipeline import Pipeline"
   ]
  },
  {
   "cell_type": "code",
   "execution_count": 23,
   "metadata": {
    "collapsed": false
   },
   "outputs": [],
   "source": [
    "def label_encoding(df):\n",
    "    for col in df.columns:\n",
    "        if df[col].dtype == 'object':\n",
    "            df[col] = LabelEncoder().fit_transform(df[col])\n",
    "    \n",
    "    return df"
   ]
  },
  {
   "cell_type": "code",
   "execution_count": 24,
   "metadata": {
    "collapsed": true
   },
   "outputs": [],
   "source": [
    "df = label_encoding(df)"
   ]
  },
  {
   "cell_type": "code",
   "execution_count": 25,
   "metadata": {
    "collapsed": false,
    "scrolled": false
   },
   "outputs": [
    {
     "data": {
      "text/html": [
       "<div>\n",
       "<table border=\"1\" class=\"dataframe\">\n",
       "  <thead>\n",
       "    <tr style=\"text-align: right;\">\n",
       "      <th></th>\n",
       "      <th>char_1_x</th>\n",
       "      <th>char_2_x</th>\n",
       "      <th>char_3_x</th>\n",
       "      <th>char_4_x</th>\n",
       "      <th>char_5_x</th>\n",
       "      <th>char_6_x</th>\n",
       "      <th>char_7_x</th>\n",
       "      <th>char_8_x</th>\n",
       "      <th>char_9_x</th>\n",
       "      <th>char_10_x</th>\n",
       "      <th>...</th>\n",
       "      <th>char_2_y</th>\n",
       "      <th>char_3_y</th>\n",
       "      <th>char_4_y</th>\n",
       "      <th>char_5_y</th>\n",
       "      <th>char_6_y</th>\n",
       "      <th>char_7_y</th>\n",
       "      <th>char_8_y</th>\n",
       "      <th>char_9_y</th>\n",
       "      <th>char_10_y</th>\n",
       "      <th>outcome</th>\n",
       "    </tr>\n",
       "    <tr>\n",
       "      <th>activity_id</th>\n",
       "      <th></th>\n",
       "      <th></th>\n",
       "      <th></th>\n",
       "      <th></th>\n",
       "      <th></th>\n",
       "      <th></th>\n",
       "      <th></th>\n",
       "      <th></th>\n",
       "      <th></th>\n",
       "      <th></th>\n",
       "      <th></th>\n",
       "      <th></th>\n",
       "      <th></th>\n",
       "      <th></th>\n",
       "      <th></th>\n",
       "      <th></th>\n",
       "      <th></th>\n",
       "      <th></th>\n",
       "      <th></th>\n",
       "      <th></th>\n",
       "      <th></th>\n",
       "    </tr>\n",
       "  </thead>\n",
       "  <tbody>\n",
       "    <tr>\n",
       "      <th>act2_2434093</th>\n",
       "      <td>1</td>\n",
       "      <td>1</td>\n",
       "      <td>38</td>\n",
       "      <td>20</td>\n",
       "      <td>4</td>\n",
       "      <td>2</td>\n",
       "      <td>2</td>\n",
       "      <td>1</td>\n",
       "      <td>1</td>\n",
       "      <td>True</td>\n",
       "      <td>...</td>\n",
       "      <td>0</td>\n",
       "      <td>0</td>\n",
       "      <td>0</td>\n",
       "      <td>0</td>\n",
       "      <td>0</td>\n",
       "      <td>0</td>\n",
       "      <td>0</td>\n",
       "      <td>0</td>\n",
       "      <td>1</td>\n",
       "      <td>0</td>\n",
       "    </tr>\n",
       "    <tr>\n",
       "      <th>act2_3404049</th>\n",
       "      <td>1</td>\n",
       "      <td>1</td>\n",
       "      <td>38</td>\n",
       "      <td>20</td>\n",
       "      <td>4</td>\n",
       "      <td>2</td>\n",
       "      <td>2</td>\n",
       "      <td>1</td>\n",
       "      <td>1</td>\n",
       "      <td>True</td>\n",
       "      <td>...</td>\n",
       "      <td>0</td>\n",
       "      <td>0</td>\n",
       "      <td>0</td>\n",
       "      <td>0</td>\n",
       "      <td>0</td>\n",
       "      <td>0</td>\n",
       "      <td>0</td>\n",
       "      <td>0</td>\n",
       "      <td>1</td>\n",
       "      <td>0</td>\n",
       "    </tr>\n",
       "    <tr>\n",
       "      <th>act2_3651215</th>\n",
       "      <td>1</td>\n",
       "      <td>1</td>\n",
       "      <td>38</td>\n",
       "      <td>20</td>\n",
       "      <td>4</td>\n",
       "      <td>2</td>\n",
       "      <td>2</td>\n",
       "      <td>1</td>\n",
       "      <td>1</td>\n",
       "      <td>True</td>\n",
       "      <td>...</td>\n",
       "      <td>0</td>\n",
       "      <td>0</td>\n",
       "      <td>0</td>\n",
       "      <td>0</td>\n",
       "      <td>0</td>\n",
       "      <td>0</td>\n",
       "      <td>0</td>\n",
       "      <td>0</td>\n",
       "      <td>1</td>\n",
       "      <td>0</td>\n",
       "    </tr>\n",
       "  </tbody>\n",
       "</table>\n",
       "<p>3 rows × 50 columns</p>\n",
       "</div>"
      ],
      "text/plain": [
       "              char_1_x  char_2_x  char_3_x  char_4_x  char_5_x  char_6_x  \\\n",
       "activity_id                                                                \n",
       "act2_2434093         1         1        38        20         4         2   \n",
       "act2_3404049         1         1        38        20         4         2   \n",
       "act2_3651215         1         1        38        20         4         2   \n",
       "\n",
       "              char_7_x  char_8_x  char_9_x char_10_x   ...   char_2_y  \\\n",
       "activity_id                                            ...              \n",
       "act2_2434093         2         1         1      True   ...          0   \n",
       "act2_3404049         2         1         1      True   ...          0   \n",
       "act2_3651215         2         1         1      True   ...          0   \n",
       "\n",
       "             char_3_y char_4_y char_5_y char_6_y char_7_y char_8_y char_9_y  \\\n",
       "activity_id                                                                   \n",
       "act2_2434093        0        0        0        0        0        0        0   \n",
       "act2_3404049        0        0        0        0        0        0        0   \n",
       "act2_3651215        0        0        0        0        0        0        0   \n",
       "\n",
       "             char_10_y outcome  \n",
       "activity_id                     \n",
       "act2_2434093         1       0  \n",
       "act2_3404049         1       0  \n",
       "act2_3651215         1       0  \n",
       "\n",
       "[3 rows x 50 columns]"
      ]
     },
     "execution_count": 25,
     "metadata": {},
     "output_type": "execute_result"
    }
   ],
   "source": [
    "df.head(3)"
   ]
  },
  {
   "cell_type": "code",
   "execution_count": 26,
   "metadata": {
    "collapsed": true
   },
   "outputs": [],
   "source": [
    "X_train = df.iloc[:, :49]\n",
    "y_train = df.iloc[:, 49:]"
   ]
  },
  {
   "cell_type": "code",
   "execution_count": 46,
   "metadata": {
    "collapsed": false
   },
   "outputs": [
    {
     "data": {
      "text/plain": [
       "(2197291, 49)"
      ]
     },
     "execution_count": 46,
     "metadata": {},
     "output_type": "execute_result"
    }
   ],
   "source": [
    "X_train.shape"
   ]
  },
  {
   "cell_type": "code",
   "execution_count": 27,
   "metadata": {
    "collapsed": false
   },
   "outputs": [
    {
     "name": "stderr",
     "output_type": "stream",
     "text": [
      "/Users/SilverStar-Air/anaconda2/lib/python2.7/site-packages/ipykernel/__main__.py:1: DataConversionWarning: A column-vector y was passed when a 1d array was expected. Please change the shape of y to (n_samples,), for example using ravel().\n",
      "  if __name__ == '__main__':\n"
     ]
    }
   ],
   "source": [
    "clf = clf.fit(X_train, y_train)"
   ]
  },
  {
   "cell_type": "code",
   "execution_count": 28,
   "metadata": {
    "collapsed": false
   },
   "outputs": [
    {
     "data": {
      "text/plain": [
       "array([ 0.02213771,  0.1390756 ,  0.031476  ,  0.03238435,  0.02954832,\n",
       "        0.04772588,  0.05281376,  0.03076296,  0.02499934,  0.00811377,\n",
       "        0.00591582,  0.00521429,  0.03875568,  0.0085889 ,  0.00499068,\n",
       "        0.00470058,  0.00478325,  0.00619121,  0.00335824,  0.00479402,\n",
       "        0.00290265,  0.00453703,  0.00537238,  0.00463775,  0.0315355 ,\n",
       "        0.00462386,  0.00665525,  0.00304273,  0.00499287,  0.00452099,\n",
       "        0.00662452,  0.01295464,  0.00451513,  0.03123183,  0.00607981,\n",
       "        0.01622538,  0.01182498,  0.26853896,  0.01644082,  0.00152432,\n",
       "        0.00157687,  0.00155558,  0.00108644,  0.00125954,  0.00131785,\n",
       "        0.00140051,  0.0014261 ,  0.00172259,  0.03354279])"
      ]
     },
     "execution_count": 28,
     "metadata": {},
     "output_type": "execute_result"
    }
   ],
   "source": [
    "clf.feature_importances_  "
   ]
  },
  {
   "cell_type": "code",
   "execution_count": 29,
   "metadata": {
    "collapsed": true
   },
   "outputs": [],
   "source": [
    "model = SelectFromModel(clf, prefit=True)"
   ]
  },
  {
   "cell_type": "code",
   "execution_count": 30,
   "metadata": {
    "collapsed": false
   },
   "outputs": [
    {
     "data": {
      "text/plain": [
       "SelectFromModel(estimator=ExtraTreesClassifier(bootstrap=False, class_weight=None, criterion='gini',\n",
       "           max_depth=None, max_features='auto', max_leaf_nodes=None,\n",
       "           min_samples_leaf=1, min_samples_split=2,\n",
       "           min_weight_fraction_leaf=0.0, n_estimators=10, n_jobs=1,\n",
       "           oob_score=False, random_state=None, verbose=0, warm_start=False),\n",
       "        prefit=True, threshold=None)"
      ]
     },
     "execution_count": 30,
     "metadata": {},
     "output_type": "execute_result"
    }
   ],
   "source": [
    "model"
   ]
  },
  {
   "cell_type": "code",
   "execution_count": 32,
   "metadata": {
    "collapsed": false
   },
   "outputs": [],
   "source": [
    "X_new = model.transform(X_train)"
   ]
  },
  {
   "cell_type": "code",
   "execution_count": 33,
   "metadata": {
    "collapsed": false
   },
   "outputs": [
    {
     "data": {
      "text/plain": [
       "(2197291, 14)"
      ]
     },
     "execution_count": 33,
     "metadata": {},
     "output_type": "execute_result"
    }
   ],
   "source": [
    "X_new.shape"
   ]
  },
  {
   "cell_type": "code",
   "execution_count": 34,
   "metadata": {
    "collapsed": false
   },
   "outputs": [
    {
     "data": {
      "text/plain": [
       "array([[  1.00000000e+00,   1.00000000e+00,   3.80000000e+01, ...,\n",
       "          1.00000000e+00,   3.60000000e+01,   1.00000000e+00],\n",
       "       [  1.00000000e+00,   1.00000000e+00,   3.80000000e+01, ...,\n",
       "          1.00000000e+00,   3.60000000e+01,   1.00000000e+00],\n",
       "       [  1.00000000e+00,   1.00000000e+00,   3.80000000e+01, ...,\n",
       "          1.00000000e+00,   3.60000000e+01,   1.00000000e+00],\n",
       "       ..., \n",
       "       [  1.00000000e+00,   2.00000000e+00,   1.10000000e+01, ...,\n",
       "          1.00000000e+00,   9.50000000e+01,   4.23000000e+02],\n",
       "       [  1.00000000e+00,   2.00000000e+00,   1.10000000e+01, ...,\n",
       "          1.00000000e+00,   9.50000000e+01,   1.00000000e+00],\n",
       "       [  1.00000000e+00,   2.00000000e+00,   1.10000000e+01, ...,\n",
       "          1.00000000e+00,   9.50000000e+01,   5.38300000e+03]])"
      ]
     },
     "execution_count": 34,
     "metadata": {},
     "output_type": "execute_result"
    }
   ],
   "source": [
    "X_new"
   ]
  },
  {
   "cell_type": "code",
   "execution_count": null,
   "metadata": {
    "collapsed": true
   },
   "outputs": [],
   "source": []
  },
  {
   "cell_type": "code",
   "execution_count": 36,
   "metadata": {
    "collapsed": false,
    "scrolled": true
   },
   "outputs": [
    {
     "name": "stderr",
     "output_type": "stream",
     "text": [
      "/Users/SilverStar-Air/anaconda2/lib/python2.7/site-packages/ipykernel/__main__.py:9: DataConversionWarning: A column-vector y was passed when a 1d array was expected. Please change the shape of y to (n_samples,), for example using ravel().\n"
     ]
    }
   ],
   "source": [
    "from sklearn.ensemble import RandomForestClassifier\n",
    "\n",
    "# rclf = Pipeline([\n",
    "#   ('feature_selection', SelectFromModel(LinearSVC(penalty=\"l1\"))),\n",
    "#   ('classification', RandomForestClassifier())\n",
    "# ])\n",
    "\n",
    "rclf = RandomForestClassifier()\n",
    "rclf = rclf.fit(X_new, y_train)"
   ]
  },
  {
   "cell_type": "code",
   "execution_count": 37,
   "metadata": {
    "collapsed": false,
    "scrolled": true
   },
   "outputs": [
    {
     "data": {
      "text/plain": [
       "RandomForestClassifier(bootstrap=True, class_weight=None, criterion='gini',\n",
       "            max_depth=None, max_features='auto', max_leaf_nodes=None,\n",
       "            min_samples_leaf=1, min_samples_split=2,\n",
       "            min_weight_fraction_leaf=0.0, n_estimators=10, n_jobs=1,\n",
       "            oob_score=False, random_state=None, verbose=0,\n",
       "            warm_start=False)"
      ]
     },
     "execution_count": 37,
     "metadata": {},
     "output_type": "execute_result"
    }
   ],
   "source": [
    "rclf"
   ]
  },
  {
   "cell_type": "code",
   "execution_count": null,
   "metadata": {
    "collapsed": true
   },
   "outputs": [],
   "source": []
  },
  {
   "cell_type": "code",
   "execution_count": null,
   "metadata": {
    "collapsed": true
   },
   "outputs": [],
   "source": []
  },
  {
   "cell_type": "code",
   "execution_count": null,
   "metadata": {
    "collapsed": true
   },
   "outputs": [],
   "source": []
  },
  {
   "cell_type": "code",
   "execution_count": 22,
   "metadata": {
    "collapsed": false,
    "scrolled": true
   },
   "outputs": [],
   "source": []
  },
  {
   "cell_type": "code",
   "execution_count": 30,
   "metadata": {
    "collapsed": false
   },
   "outputs": [],
   "source": [
    "from IPython import display\n",
    "from sklearn.externals.six import StringIO  \n",
    "from sklearn import tree, utils\n",
    "import pydot "
   ]
  },
  {
   "cell_type": "code",
   "execution_count": 31,
   "metadata": {
    "collapsed": true
   },
   "outputs": [],
   "source": [
    "# Generate a plot of the decision tree\n",
    "dot_data = StringIO() \n",
    "tree.export_graphviz(clf, out_file=dot_data)"
   ]
  },
  {
   "cell_type": "code",
   "execution_count": 32,
   "metadata": {
    "collapsed": true
   },
   "outputs": [],
   "source": [
    "graph = pydot.graph_from_dot_data(dot_data.getvalue()) "
   ]
  },
  {
   "cell_type": "code",
   "execution_count": null,
   "metadata": {
    "collapsed": true
   },
   "outputs": [],
   "source": []
  },
  {
   "cell_type": "code",
   "execution_count": null,
   "metadata": {
    "collapsed": true
   },
   "outputs": [],
   "source": []
  },
  {
   "cell_type": "code",
   "execution_count": null,
   "metadata": {
    "collapsed": true
   },
   "outputs": [],
   "source": [
    "from sklearn.cross_validation import cross_val_score\n",
    "from sklearn.ensemble import RandomForestClassifier"
   ]
  },
  {
   "cell_type": "code",
   "execution_count": 67,
   "metadata": {
    "collapsed": false,
    "scrolled": false
   },
   "outputs": [
    {
     "name": "stderr",
     "output_type": "stream",
     "text": [
      "/Users/SilverStar-Air/anaconda2/lib/python2.7/site-packages/ipykernel/__main__.py:2: DataConversionWarning: A column-vector y was passed when a 1d array was expected. Please change the shape of y to (n_samples,), for example using ravel().\n",
      "  from ipykernel import kernelapp as app\n"
     ]
    }
   ],
   "source": [
    "clf = RandomForestClassifier(n_estimators=10, max_depth=10, min_samples_split=1, random_state=0)\n",
    "clf = clf.fit(X_train, y_train)"
   ]
  },
  {
   "cell_type": "code",
   "execution_count": null,
   "metadata": {
    "collapsed": true
   },
   "outputs": [],
   "source": []
  },
  {
   "cell_type": "code",
   "execution_count": null,
   "metadata": {
    "collapsed": true
   },
   "outputs": [],
   "source": []
  },
  {
   "cell_type": "code",
   "execution_count": 65,
   "metadata": {
    "collapsed": true
   },
   "outputs": [],
   "source": [
    "df_test = pd.read_csv(\"./data/act_test.csv\")"
   ]
  },
  {
   "cell_type": "code",
   "execution_count": 66,
   "metadata": {
    "collapsed": true
   },
   "outputs": [],
   "source": [
    "df_test = pd.merge(people, df_test, how='inner', on='people_id', left_on=None, right_on=None,\n",
    "      left_index=False, right_index=False, sort=True,\n",
    "      suffixes=('_x', '_y'), copy=True, indicator=False)"
   ]
  },
  {
   "cell_type": "code",
   "execution_count": 67,
   "metadata": {
    "collapsed": false
   },
   "outputs": [
    {
     "data": {
      "text/html": [
       "<div>\n",
       "<table border=\"1\" class=\"dataframe\">\n",
       "  <thead>\n",
       "    <tr style=\"text-align: right;\">\n",
       "      <th></th>\n",
       "      <th>people_id</th>\n",
       "      <th>char_1_x</th>\n",
       "      <th>group_1</th>\n",
       "      <th>char_2_x</th>\n",
       "      <th>date_x</th>\n",
       "      <th>char_3_x</th>\n",
       "      <th>char_4_x</th>\n",
       "      <th>char_5_x</th>\n",
       "      <th>char_6_x</th>\n",
       "      <th>char_7_x</th>\n",
       "      <th>...</th>\n",
       "      <th>char_1_y</th>\n",
       "      <th>char_2_y</th>\n",
       "      <th>char_3_y</th>\n",
       "      <th>char_4_y</th>\n",
       "      <th>char_5_y</th>\n",
       "      <th>char_6_y</th>\n",
       "      <th>char_7_y</th>\n",
       "      <th>char_8_y</th>\n",
       "      <th>char_9_y</th>\n",
       "      <th>char_10_y</th>\n",
       "    </tr>\n",
       "  </thead>\n",
       "  <tbody>\n",
       "    <tr>\n",
       "      <th>0</th>\n",
       "      <td>ppl_100004</td>\n",
       "      <td>type 2</td>\n",
       "      <td>group 22593</td>\n",
       "      <td>type 3</td>\n",
       "      <td>2022-07-20</td>\n",
       "      <td>type 40</td>\n",
       "      <td>type 25</td>\n",
       "      <td>type 9</td>\n",
       "      <td>type 4</td>\n",
       "      <td>type 16</td>\n",
       "      <td>...</td>\n",
       "      <td>type 5</td>\n",
       "      <td>type 10</td>\n",
       "      <td>type 5</td>\n",
       "      <td>type 1</td>\n",
       "      <td>type 6</td>\n",
       "      <td>type 1</td>\n",
       "      <td>type 1</td>\n",
       "      <td>type 7</td>\n",
       "      <td>type 4</td>\n",
       "      <td>NaN</td>\n",
       "    </tr>\n",
       "    <tr>\n",
       "      <th>1</th>\n",
       "      <td>ppl_100004</td>\n",
       "      <td>type 2</td>\n",
       "      <td>group 22593</td>\n",
       "      <td>type 3</td>\n",
       "      <td>2022-07-20</td>\n",
       "      <td>type 40</td>\n",
       "      <td>type 25</td>\n",
       "      <td>type 9</td>\n",
       "      <td>type 4</td>\n",
       "      <td>type 16</td>\n",
       "      <td>...</td>\n",
       "      <td>NaN</td>\n",
       "      <td>NaN</td>\n",
       "      <td>NaN</td>\n",
       "      <td>NaN</td>\n",
       "      <td>NaN</td>\n",
       "      <td>NaN</td>\n",
       "      <td>NaN</td>\n",
       "      <td>NaN</td>\n",
       "      <td>NaN</td>\n",
       "      <td>type 682</td>\n",
       "    </tr>\n",
       "    <tr>\n",
       "      <th>2</th>\n",
       "      <td>ppl_10001</td>\n",
       "      <td>type 2</td>\n",
       "      <td>group 25417</td>\n",
       "      <td>type 3</td>\n",
       "      <td>2022-10-14</td>\n",
       "      <td>type 6</td>\n",
       "      <td>type 6</td>\n",
       "      <td>type 4</td>\n",
       "      <td>type 1</td>\n",
       "      <td>type 1</td>\n",
       "      <td>...</td>\n",
       "      <td>type 12</td>\n",
       "      <td>type 1</td>\n",
       "      <td>type 5</td>\n",
       "      <td>type 4</td>\n",
       "      <td>type 6</td>\n",
       "      <td>type 1</td>\n",
       "      <td>type 1</td>\n",
       "      <td>type 13</td>\n",
       "      <td>type 10</td>\n",
       "      <td>NaN</td>\n",
       "    </tr>\n",
       "  </tbody>\n",
       "</table>\n",
       "<p>3 rows × 54 columns</p>\n",
       "</div>"
      ],
      "text/plain": [
       "    people_id char_1_x      group_1 char_2_x      date_x char_3_x char_4_x  \\\n",
       "0  ppl_100004   type 2  group 22593   type 3  2022-07-20  type 40  type 25   \n",
       "1  ppl_100004   type 2  group 22593   type 3  2022-07-20  type 40  type 25   \n",
       "2   ppl_10001   type 2  group 25417   type 3  2022-10-14   type 6   type 6   \n",
       "\n",
       "  char_5_x char_6_x char_7_x    ...    char_1_y char_2_y char_3_y char_4_y  \\\n",
       "0   type 9   type 4  type 16    ...      type 5  type 10   type 5   type 1   \n",
       "1   type 9   type 4  type 16    ...         NaN      NaN      NaN      NaN   \n",
       "2   type 4   type 1   type 1    ...     type 12   type 1   type 5   type 4   \n",
       "\n",
       "  char_5_y char_6_y char_7_y char_8_y char_9_y char_10_y  \n",
       "0   type 6   type 1   type 1   type 7   type 4       NaN  \n",
       "1      NaN      NaN      NaN      NaN      NaN  type 682  \n",
       "2   type 6   type 1   type 1  type 13  type 10       NaN  \n",
       "\n",
       "[3 rows x 54 columns]"
      ]
     },
     "execution_count": 67,
     "metadata": {},
     "output_type": "execute_result"
    }
   ],
   "source": [
    "df_test.head(3)"
   ]
  },
  {
   "cell_type": "code",
   "execution_count": 68,
   "metadata": {
    "collapsed": false
   },
   "outputs": [],
   "source": [
    "df_test = df_test[[u'activity_id',\n",
    "       u'char_1_x', u'char_2_x', u'char_3_x', u'char_4_x', u'char_5_x',\n",
    "       u'char_6_x', u'char_7_x', u'char_8_x', u'char_9_x', u'char_10_x',\n",
    "       u'char_11', u'char_12', u'char_13', u'char_14', u'char_15', u'char_16',\n",
    "       u'char_17', u'char_18', u'char_19', u'char_20', u'char_21', u'char_22',\n",
    "       u'char_23', u'char_24', u'char_25', u'char_26', u'char_27', u'char_28',\n",
    "       u'char_29', u'char_30', u'char_31', u'char_32', u'char_33', u'char_34',\n",
    "       u'char_35', u'char_36', u'char_37', u'char_38', u'activity_category',\n",
    "       u'char_1_y', u'char_2_y', u'char_3_y', u'char_4_y', u'char_5_y',\n",
    "       u'char_6_y', u'char_7_y', u'char_8_y', u'char_9_y', u'char_10_y']]"
   ]
  },
  {
   "cell_type": "code",
   "execution_count": 69,
   "metadata": {
    "collapsed": false
   },
   "outputs": [],
   "source": [
    "df_test = df_test.set_index('activity_id')"
   ]
  },
  {
   "cell_type": "code",
   "execution_count": 70,
   "metadata": {
    "collapsed": false
   },
   "outputs": [
    {
     "name": "stderr",
     "output_type": "stream",
     "text": [
      "/Users/SilverStar-Air/anaconda2/lib/python2.7/site-packages/numpy/lib/arraysetops.py:200: FutureWarning: numpy not_equal will not check object identity in the future. The comparison did not return the same result as suggested by the identity (`is`)) and will change.\n",
      "  flag = np.concatenate(([True], aux[1:] != aux[:-1]))\n"
     ]
    }
   ],
   "source": [
    "df_test = label_encoding(df_test)"
   ]
  },
  {
   "cell_type": "code",
   "execution_count": 71,
   "metadata": {
    "collapsed": false,
    "scrolled": false
   },
   "outputs": [
    {
     "data": {
      "text/html": [
       "<div>\n",
       "<table border=\"1\" class=\"dataframe\">\n",
       "  <thead>\n",
       "    <tr style=\"text-align: right;\">\n",
       "      <th></th>\n",
       "      <th>char_1_x</th>\n",
       "      <th>char_2_x</th>\n",
       "      <th>char_3_x</th>\n",
       "      <th>char_4_x</th>\n",
       "      <th>char_5_x</th>\n",
       "      <th>char_6_x</th>\n",
       "      <th>char_7_x</th>\n",
       "      <th>char_8_x</th>\n",
       "      <th>char_9_x</th>\n",
       "      <th>char_10_x</th>\n",
       "      <th>...</th>\n",
       "      <th>char_1_y</th>\n",
       "      <th>char_2_y</th>\n",
       "      <th>char_3_y</th>\n",
       "      <th>char_4_y</th>\n",
       "      <th>char_5_y</th>\n",
       "      <th>char_6_y</th>\n",
       "      <th>char_7_y</th>\n",
       "      <th>char_8_y</th>\n",
       "      <th>char_9_y</th>\n",
       "      <th>char_10_y</th>\n",
       "    </tr>\n",
       "    <tr>\n",
       "      <th>activity_id</th>\n",
       "      <th></th>\n",
       "      <th></th>\n",
       "      <th></th>\n",
       "      <th></th>\n",
       "      <th></th>\n",
       "      <th></th>\n",
       "      <th></th>\n",
       "      <th></th>\n",
       "      <th></th>\n",
       "      <th></th>\n",
       "      <th></th>\n",
       "      <th></th>\n",
       "      <th></th>\n",
       "      <th></th>\n",
       "      <th></th>\n",
       "      <th></th>\n",
       "      <th></th>\n",
       "      <th></th>\n",
       "      <th></th>\n",
       "      <th></th>\n",
       "      <th></th>\n",
       "    </tr>\n",
       "  </thead>\n",
       "  <tbody>\n",
       "    <tr>\n",
       "      <th>act1_249281</th>\n",
       "      <td>1</td>\n",
       "      <td>2</td>\n",
       "      <td>34</td>\n",
       "      <td>17</td>\n",
       "      <td>8</td>\n",
       "      <td>3</td>\n",
       "      <td>7</td>\n",
       "      <td>1</td>\n",
       "      <td>1</td>\n",
       "      <td>True</td>\n",
       "      <td>...</td>\n",
       "      <td>42</td>\n",
       "      <td>2</td>\n",
       "      <td>7</td>\n",
       "      <td>1</td>\n",
       "      <td>6</td>\n",
       "      <td>1</td>\n",
       "      <td>1</td>\n",
       "      <td>16</td>\n",
       "      <td>14</td>\n",
       "      <td>0</td>\n",
       "    </tr>\n",
       "    <tr>\n",
       "      <th>act2_230855</th>\n",
       "      <td>1</td>\n",
       "      <td>2</td>\n",
       "      <td>34</td>\n",
       "      <td>17</td>\n",
       "      <td>8</td>\n",
       "      <td>3</td>\n",
       "      <td>7</td>\n",
       "      <td>1</td>\n",
       "      <td>1</td>\n",
       "      <td>True</td>\n",
       "      <td>...</td>\n",
       "      <td>0</td>\n",
       "      <td>0</td>\n",
       "      <td>0</td>\n",
       "      <td>0</td>\n",
       "      <td>0</td>\n",
       "      <td>0</td>\n",
       "      <td>0</td>\n",
       "      <td>0</td>\n",
       "      <td>0</td>\n",
       "      <td>3135</td>\n",
       "    </tr>\n",
       "    <tr>\n",
       "      <th>act1_240724</th>\n",
       "      <td>1</td>\n",
       "      <td>2</td>\n",
       "      <td>37</td>\n",
       "      <td>21</td>\n",
       "      <td>3</td>\n",
       "      <td>0</td>\n",
       "      <td>0</td>\n",
       "      <td>1</td>\n",
       "      <td>1</td>\n",
       "      <td>True</td>\n",
       "      <td>...</td>\n",
       "      <td>4</td>\n",
       "      <td>1</td>\n",
       "      <td>7</td>\n",
       "      <td>4</td>\n",
       "      <td>6</td>\n",
       "      <td>1</td>\n",
       "      <td>1</td>\n",
       "      <td>5</td>\n",
       "      <td>2</td>\n",
       "      <td>0</td>\n",
       "    </tr>\n",
       "  </tbody>\n",
       "</table>\n",
       "<p>3 rows × 49 columns</p>\n",
       "</div>"
      ],
      "text/plain": [
       "             char_1_x  char_2_x  char_3_x  char_4_x  char_5_x  char_6_x  \\\n",
       "activity_id                                                               \n",
       "act1_249281         1         2        34        17         8         3   \n",
       "act2_230855         1         2        34        17         8         3   \n",
       "act1_240724         1         2        37        21         3         0   \n",
       "\n",
       "             char_7_x  char_8_x  char_9_x char_10_x    ...    char_1_y  \\\n",
       "activity_id                                            ...               \n",
       "act1_249281         7         1         1      True    ...          42   \n",
       "act2_230855         7         1         1      True    ...           0   \n",
       "act1_240724         0         1         1      True    ...           4   \n",
       "\n",
       "            char_2_y char_3_y char_4_y char_5_y char_6_y char_7_y char_8_y  \\\n",
       "activity_id                                                                  \n",
       "act1_249281        2        7        1        6        1        1       16   \n",
       "act2_230855        0        0        0        0        0        0        0   \n",
       "act1_240724        1        7        4        6        1        1        5   \n",
       "\n",
       "            char_9_y char_10_y  \n",
       "activity_id                     \n",
       "act1_249281       14         0  \n",
       "act2_230855        0      3135  \n",
       "act1_240724        2         0  \n",
       "\n",
       "[3 rows x 49 columns]"
      ]
     },
     "execution_count": 71,
     "metadata": {},
     "output_type": "execute_result"
    }
   ],
   "source": [
    "df_test.head(3)"
   ]
  },
  {
   "cell_type": "code",
   "execution_count": 72,
   "metadata": {
    "collapsed": false
   },
   "outputs": [
    {
     "data": {
      "text/plain": [
       "(498687, 49)"
      ]
     },
     "execution_count": 72,
     "metadata": {},
     "output_type": "execute_result"
    }
   ],
   "source": [
    "df_test.shape"
   ]
  },
  {
   "cell_type": "code",
   "execution_count": 73,
   "metadata": {
    "collapsed": false
   },
   "outputs": [],
   "source": [
    "X_test = model.transform(df_test)"
   ]
  },
  {
   "cell_type": "code",
   "execution_count": 74,
   "metadata": {
    "collapsed": true
   },
   "outputs": [],
   "source": [
    "y_test = rclf.predict(X_test)"
   ]
  },
  {
   "cell_type": "code",
   "execution_count": 75,
   "metadata": {
    "collapsed": false
   },
   "outputs": [
    {
     "data": {
      "text/plain": [
       "array([1, 1, 1, 1, 1, 1, 1, 1, 1, 1])"
      ]
     },
     "execution_count": 75,
     "metadata": {},
     "output_type": "execute_result"
    }
   ],
   "source": [
    "y_test[:10]"
   ]
  },
  {
   "cell_type": "code",
   "execution_count": null,
   "metadata": {
    "collapsed": true
   },
   "outputs": [],
   "source": []
  },
  {
   "cell_type": "code",
   "execution_count": 76,
   "metadata": {
    "collapsed": true
   },
   "outputs": [],
   "source": [
    "submit = pd.read_csv(\"./data/act_test.csv\")"
   ]
  },
  {
   "cell_type": "code",
   "execution_count": 77,
   "metadata": {
    "collapsed": true
   },
   "outputs": [],
   "source": [
    "submit = submit[['activity_id']]"
   ]
  },
  {
   "cell_type": "code",
   "execution_count": 78,
   "metadata": {
    "collapsed": false
   },
   "outputs": [
    {
     "data": {
      "text/plain": [
       "Index([u'activity_id'], dtype='object')"
      ]
     },
     "execution_count": 78,
     "metadata": {},
     "output_type": "execute_result"
    }
   ],
   "source": [
    "submit.columns"
   ]
  },
  {
   "cell_type": "code",
   "execution_count": 79,
   "metadata": {
    "collapsed": false
   },
   "outputs": [
    {
     "data": {
      "text/plain": [
       "(498687, 1)"
      ]
     },
     "execution_count": 79,
     "metadata": {},
     "output_type": "execute_result"
    }
   ],
   "source": [
    "submit.shape"
   ]
  },
  {
   "cell_type": "code",
   "execution_count": 80,
   "metadata": {
    "collapsed": false
   },
   "outputs": [],
   "source": [
    "submit['outcome'] = y_test"
   ]
  },
  {
   "cell_type": "code",
   "execution_count": 81,
   "metadata": {
    "collapsed": true
   },
   "outputs": [],
   "source": [
    "submit = submit.sort_values(by='activity_id')"
   ]
  },
  {
   "cell_type": "code",
   "execution_count": 82,
   "metadata": {
    "collapsed": false,
    "scrolled": false
   },
   "outputs": [
    {
     "data": {
      "text/html": [
       "<div>\n",
       "<table border=\"1\" class=\"dataframe\">\n",
       "  <thead>\n",
       "    <tr style=\"text-align: right;\">\n",
       "      <th></th>\n",
       "      <th>activity_id</th>\n",
       "      <th>outcome</th>\n",
       "    </tr>\n",
       "  </thead>\n",
       "  <tbody>\n",
       "    <tr>\n",
       "      <th>240682</th>\n",
       "      <td>act1_1</td>\n",
       "      <td>1</td>\n",
       "    </tr>\n",
       "    <tr>\n",
       "      <th>79698</th>\n",
       "      <td>act1_100006</td>\n",
       "      <td>0</td>\n",
       "    </tr>\n",
       "    <tr>\n",
       "      <th>358220</th>\n",
       "      <td>act1_100050</td>\n",
       "      <td>0</td>\n",
       "    </tr>\n",
       "    <tr>\n",
       "      <th>59778</th>\n",
       "      <td>act1_100065</td>\n",
       "      <td>0</td>\n",
       "    </tr>\n",
       "    <tr>\n",
       "      <th>117803</th>\n",
       "      <td>act1_100068</td>\n",
       "      <td>0</td>\n",
       "    </tr>\n",
       "  </tbody>\n",
       "</table>\n",
       "</div>"
      ],
      "text/plain": [
       "        activity_id  outcome\n",
       "240682       act1_1        1\n",
       "79698   act1_100006        0\n",
       "358220  act1_100050        0\n",
       "59778   act1_100065        0\n",
       "117803  act1_100068        0"
      ]
     },
     "execution_count": 82,
     "metadata": {},
     "output_type": "execute_result"
    }
   ],
   "source": [
    "submit.head()"
   ]
  },
  {
   "cell_type": "code",
   "execution_count": 83,
   "metadata": {
    "collapsed": true
   },
   "outputs": [],
   "source": [
    "submit.to_csv(path_or_buf='./data/submit_3.csv',index=False) # feature selection"
   ]
  },
  {
   "cell_type": "code",
   "execution_count": 57,
   "metadata": {
    "collapsed": true
   },
   "outputs": [],
   "source": [
    "#submit.to_csv(path_or_buf='./data/submit_1.csv',index=False) # 0.854019"
   ]
  },
  {
   "cell_type": "code",
   "execution_count": null,
   "metadata": {
    "collapsed": true
   },
   "outputs": [],
   "source": []
  },
  {
   "cell_type": "code",
   "execution_count": null,
   "metadata": {
    "collapsed": true
   },
   "outputs": [],
   "source": []
  }
 ],
 "metadata": {
  "kernelspec": {
   "display_name": "Python 2",
   "language": "python",
   "name": "python2"
  },
  "language_info": {
   "codemirror_mode": {
    "name": "ipython",
    "version": 2
   },
   "file_extension": ".py",
   "mimetype": "text/x-python",
   "name": "python",
   "nbconvert_exporter": "python",
   "pygments_lexer": "ipython2",
   "version": "2.7.12"
  }
 },
 "nbformat": 4,
 "nbformat_minor": 0
}
