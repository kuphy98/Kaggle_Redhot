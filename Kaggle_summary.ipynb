{
 "cells": [
  {
   "cell_type": "markdown",
   "metadata": {},
   "source": [
    "1. Glance data sets\n",
    "\n",
    "people :  \n",
    "    Index([u'people_id', u'char_1', u'group_1', u'char_2', u'date', u'char_3',\n",
    "       u'char_4', u'char_5', u'char_6', u'char_7', u'char_8', u'char_9',\n",
    "       u'char_10', u'char_11', u'char_12', u'char_13', u'char_14', u'char_15',\n",
    "       u'char_16', u'char_17', u'char_18', u'char_19', u'char_20', u'char_21',\n",
    "       u'char_22', u'char_23', u'char_24', u'char_25', u'char_26', u'char_27',\n",
    "       u'char_28', u'char_29', u'char_30', u'char_31', u'char_32', u'char_33',\n",
    "       u'char_34', u'char_35', u'char_36', u'char_37', u'char_38'],\n",
    "      dtype='object')\n",
    "      \n",
    "activity:  \n",
    "    Index([u'people_id', u'activity_id', u'date', u'activity_category', u'char_1',\n",
    "       u'char_2', u'char_3', u'char_4', u'char_5', u'char_6', u'char_7',\n",
    "       u'char_8', u'char_9', u'char_10', u'outcome'],\n",
    "      dtype='object')\n"
   ]
  },
  {
   "cell_type": "code",
   "execution_count": null,
   "metadata": {
    "collapsed": true
   },
   "outputs": [],
   "source": []
  },
  {
   "cell_type": "markdown",
   "metadata": {},
   "source": [
    "### 1. Look into data / understand information \n",
    "* 38 char values in people\n",
    "* 10 char values in activity \n",
    "* But the meaning of values are unknown   "
   ]
  },
  {
   "cell_type": "code",
   "execution_count": null,
   "metadata": {
    "collapsed": true
   },
   "outputs": [],
   "source": []
  },
  {
   "cell_type": "markdown",
   "metadata": {},
   "source": [
    "* people:   \n",
    "    shape: (189118, 41)  \n",
    "    id: 189118 <= # of unique id  \n",
    "    date: 1196 / '2020-05-18' => '2023-08-31'  \n",
    "    char_1 ~ char_9 : type#  \n",
    "    char_10 ~ char_37: True/False  \n",
    "    char_38: number 0 ~ 100 inclusive\n",
    "    \n",
    "    nunique:  \n",
    "    char_1 : 2 , char_2 : 3 , char_3 : 43 , char_4 : 25 , char_5 : 9 , char_6 : 7 , char_7 : 25 , char_8 : 8 , char_9 : 9 , char_10 : 2 , char_11 : 2 , char_12 : 2 , char_13 : 2 , char_14 : 2 , char_15 : 2 , char_16 : 2 , char_17 : 2 , char_18 : 2 , char_19 : 2 , char_20 : 2 , char_21 : 2 , char_22 : 2 , char_23 : 2 , char_24 : 2 , char_25 : 2 , char_26 : 2 , char_27 : 2 , char_28 : 2 , char_29 : 2 , char_30 : 2 , char_31 : 2 , char_32 : 2 , char_33 : 2 , char_34 : 2 , char_35 : 2 , char_36 : 2 , char_37 : 2 , char_38 : 101 ,\n",
    "    "
   ]
  },
  {
   "cell_type": "code",
   "execution_count": null,
   "metadata": {
    "collapsed": true
   },
   "outputs": [],
   "source": []
  },
  {
   "cell_type": "code",
   "execution_count": null,
   "metadata": {
    "collapsed": true
   },
   "outputs": [],
   "source": []
  },
  {
   "cell_type": "markdown",
   "metadata": {},
   "source": [
    "* activity:  \n",
    "    shape: (2197291, 15)\n",
    "    unique activity id: 2197291\n",
    "\n",
    "    date: 411 / '2022-07-17' => '2023-08-31'\n",
    "    \n",
    "    activity_category: 7 ['type 4' 'type 2' 'type 3' 'type 5' 'type 1' 'type 7' 'type 6']  \n",
    "    char_1 ~ char_9: type#\n",
    "    char_10: 6515 ['type 76' 'type 1' 'type 1727' ..., 'type 7356' 'type 6865' 'type 7379']   \n",
    "    => everything in char_1 is null when char_10 is not null. \n",
    "    \n",
    "    outcome: 2 [0 1]  \n",
    "    \n",
    "    \n",
    "* any(activity[activity['char_1'].notnull()]['char_10'].notnull()) = False"
   ]
  },
  {
   "cell_type": "code",
   "execution_count": null,
   "metadata": {
    "collapsed": true
   },
   "outputs": [],
   "source": []
  },
  {
   "cell_type": "code",
   "execution_count": null,
   "metadata": {
    "collapsed": true
   },
   "outputs": [],
   "source": []
  }
 ],
 "metadata": {
  "kernelspec": {
   "display_name": "Python 2",
   "language": "python",
   "name": "python2"
  },
  "language_info": {
   "codemirror_mode": {
    "name": "ipython",
    "version": 2
   },
   "file_extension": ".py",
   "mimetype": "text/x-python",
   "name": "python",
   "nbconvert_exporter": "python",
   "pygments_lexer": "ipython2",
   "version": "2.7.12"
  }
 },
 "nbformat": 4,
 "nbformat_minor": 0
}
